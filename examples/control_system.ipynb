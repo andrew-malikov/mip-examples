{
 "cells": [
  {
   "cell_type": "markdown",
   "metadata": {},
   "source": [
    "# Исследование и оптимизация системы контроля"
   ]
  },
  {
   "cell_type": "code",
   "execution_count": 1,
   "metadata": {},
   "outputs": [],
   "source": [
    "from load_packages import load_packages\n",
    "\n",
    "load_packages()"
   ]
  },
  {
   "cell_type": "markdown",
   "metadata": {},
   "source": [
    "## Имитационная модель системы контроля"
   ]
  },
  {
   "cell_type": "code",
   "execution_count": 6,
   "metadata": {},
   "outputs": [],
   "source": [
    "from packages.control_system.src.channel_manager import ChannelManager\n",
    "from packages.control_system.src.time_bound import TimeBound\n",
    "\n",
    "from packages.control_system.src.control_model import ControlModel\n",
    "from control_system.control_model import analyze\n",
    "\n",
    "def get_control_model(produce = (8, 18), control = (18, 28), count = 1) -> ControlModel:\n",
    "    return ControlModel(ChannelManager(count), TimeBound(produce), TimeBound(control))\n",
    "\n",
    "def arrange_stats(model, sample, ratio):\n",
    "    return analyze(model, sample, ratio)"
   ]
  },
  {
   "cell_type": "code",
   "execution_count": 3,
   "metadata": {},
   "outputs": [],
   "source": [
    "from packages.control_system.src.model_stats import ModelStats\n",
    "\n",
    "def show_stats(model, sample: int, ratio: float):\n",
    "    stats = arrange_stats(model, sample, ratio)\n",
    "    \n",
    "    print(\"Channels: \\t{0}\".format(stats.channels))\n",
    "    \n",
    "    print(\"Sample: \\t{0}\".format(sample))\n",
    "    print(\"Missed: \\t{0}\".format(stats.missed))\n",
    "    print(\"Ratio: \\t{0}\\n\".format(stats.ratio))"
   ]
  },
  {
   "cell_type": "code",
   "execution_count": 4,
   "metadata": {},
   "outputs": [
    {
     "name": "stdout",
     "output_type": "stream",
     "text": [
      "Channels: \t13\n",
      "Sample: \t50\n",
      "Missed: \t10\n",
      "Ratio: \t0.8\n",
      "\n",
      "Channels: \t18\n",
      "Sample: \t50\n",
      "Missed: \t0\n",
      "Ratio: \t1.0\n",
      "\n"
     ]
    }
   ],
   "source": [
    "for ratio in [0.8, 0.98]:\n",
    "    show_stats(get_control_model(), 50, ratio)"
   ]
  },
  {
   "cell_type": "code",
   "execution_count": 14,
   "metadata": {},
   "outputs": [],
   "source": [
    "import numpy as np\n",
    "import matplotlib.pyplot as plt\n",
    "\n",
    "def show_bar(keys, values, precision: int = 3):\n",
    "    keys = list(map(lambda x: str(x), keys))\n",
    "    values = list(map(lambda x: round(x, precision), values))\n",
    "    \n",
    "    bars = plt.bar(keys, values)\n",
    "    \n",
    "    plt.show()"
   ]
  },
  {
   "cell_type": "code",
   "execution_count": 29,
   "metadata": {},
   "outputs": [
    {
     "data": {
      "image/png": "[encoded data removed]",
      "text/plain": [
       "<Figure size 432x288 with 1 Axes>"
      ]
     },
     "metadata": {
      "needs_background": "light"
     },
     "output_type": "display_data"
    },
    {
     "name": "stdout",
     "output_type": "stream",
     "text": [
      "Channels: \t17\n",
      "Sample: \t50\n",
      "Missed: \t1\n",
      "Ratio: \t0.98\n",
      "\n"
     ]
    },
    {
     "data": {
      "image/png": "[encoded data removed]",
      "text/plain": [
       "<Figure size 432x288 with 1 Axes>"
      ]
     },
     "metadata": {
      "needs_background": "light"
     },
     "output_type": "display_data"
    },
    {
     "name": "stdout",
     "output_type": "stream",
     "text": [
      "Channels: \t17\n",
      "Sample: \t50\n",
      "Missed: \t1\n",
      "Ratio: \t0.98\n",
      "\n"
     ]
    },
    {
     "data": {
      "image/png": "[encoded data removed]",
      "text/plain": [
       "<Figure size 432x288 with 1 Axes>"
      ]
     },
     "metadata": {
      "needs_background": "light"
     },
     "output_type": "display_data"
    },
    {
     "name": "stdout",
     "output_type": "stream",
     "text": [
      "Channels: \t17\n",
      "Sample: \t50\n",
      "Missed: \t0\n",
      "Ratio: \t1.0\n",
      "\n"
     ]
    },
    {
     "data": {
      "image/png": "[encoded data removed]",
      "text/plain": [
       "<Figure size 432x288 with 1 Axes>"
      ]
     },
     "metadata": {
      "needs_background": "light"
     },
     "output_type": "display_data"
    },
    {
     "name": "stdout",
     "output_type": "stream",
     "text": [
      "Channels: \t17\n",
      "Sample: \t50\n",
      "Missed: \t1\n",
      "Ratio: \t0.98\n",
      "\n"
     ]
    },
    {
     "data": {
      "image/png": "[encoded data removed]",
      "text/plain": [
       "<Figure size 432x288 with 1 Axes>"
      ]
     },
     "metadata": {
      "needs_background": "light"
     },
     "output_type": "display_data"
    },
    {
     "name": "stdout",
     "output_type": "stream",
     "text": [
      "Channels: \t18\n",
      "Sample: \t50\n",
      "Missed: \t0\n",
      "Ratio: \t1.0\n",
      "\n"
     ]
    }
   ],
   "source": [
    "def show_bars(bounds = (1, 5), sample: int = 50):\n",
    "    \n",
    "    keys = []\n",
    "    values = []\n",
    "    \n",
    "    for channels in range(bounds[0], bounds[1] + 1):\n",
    "        stats = get_control_model(count=channels).arrange_stats(sample)\n",
    "        \n",
    "        keys.append(channels)\n",
    "        values.append(1 - stats.ratio)\n",
    "        \n",
    "    show_bar(keys, values)\n",
    "    \n",
    "    show_stats(get_control_model(), sample, 0.98)\n",
    "    \n",
    "for i in range(0,5):\n",
    "    show_bars()"
   ]
  },
  {
   "cell_type": "code",
   "execution_count": 31,
   "metadata": {},
   "outputs": [
    {
     "data": {
      "image/png": "[encoded data removed]",
      "text/plain": [
       "<Figure size 432x288 with 1 Axes>"
      ]
     },
     "metadata": {
      "needs_background": "light"
     },
     "output_type": "display_data"
    },
    {
     "name": "stdout",
     "output_type": "stream",
     "text": [
      "Channels: \t324\n",
      "Sample: \t999\n",
      "Missed: \t19\n",
      "Ratio: \t0.980980980980981\n",
      "\n"
     ]
    }
   ],
   "source": [
    "show_bars(bounds=(100, 105), sample=999)"
   ]
  },
  {
   "cell_type": "code",
   "execution_count": null,
   "metadata": {},
   "outputs": [],
   "source": []
  }
 ],
 "metadata": {
  "kernelspec": {
   "display_name": "Python 3",
   "language": "python",
   "name": "python3"
  },
  "language_info": {
   "codemirror_mode": {
    "name": "ipython",
    "version": 3
   },
   "file_extension": ".py",
   "mimetype": "text/x-python",
   "name": "python",
   "nbconvert_exporter": "python",
   "pygments_lexer": "ipython3",
   "version": "3.7.0"
  }
 },
 "nbformat": 4,
 "nbformat_minor": 2
}
