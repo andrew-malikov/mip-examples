{
 "cells": [
  {
   "cell_type": "markdown",
   "metadata": {},
   "source": [
    "# Использования метода Монте-Карло для вычисления площади треугольника"
   ]
  },
  {
   "cell_type": "code",
   "execution_count": 1,
   "metadata": {},
   "outputs": [],
   "source": [
    "from load_packages import load_packages\n",
    "\n",
    "\n",
    "load_packages()"
   ]
  },
  {
   "cell_type": "code",
   "execution_count": 5,
   "metadata": {},
   "outputs": [
    {
     "name": "stdout",
     "output_type": "stream",
     "text": [
      "The area of triangle is: 1.948\n"
     ]
    }
   ],
   "source": [
    "from packages.monte_carlo.src.point import Point\n",
    "from packages.monte_carlo.src.triangle import Triangle\n",
    "from packages.monte_carlo.src.monte_carlo_triangle_area import MonteCarloTriangleArea\n",
    "\n",
    "triangle = Triangle(Point(0, 0), Point(0, 2), Point(2, 0))\n",
    "monte_carlo_triangle_area = MonteCarloTriangleArea(triangle)\n",
    "\n",
    "print(f\"The area of triangle is: {monte_carlo_triangle_area.compute_area(1000)}\")\n"
   ]
  }
 ],
 "metadata": {
  "kernelspec": {
   "display_name": "Python 3",
   "language": "python",
   "name": "python3"
  },
  "language_info": {
   "codemirror_mode": {
    "name": "ipython",
    "version": 3
   },
   "file_extension": ".py",
   "mimetype": "text/x-python",
   "name": "python",
   "nbconvert_exporter": "python",
   "pygments_lexer": "ipython3",
   "version": "3.7.1"
  }
 },
 "nbformat": 4,
 "nbformat_minor": 2
}
