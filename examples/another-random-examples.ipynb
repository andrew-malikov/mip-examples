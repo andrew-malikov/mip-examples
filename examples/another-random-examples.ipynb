{
 "cells": [
  {
   "cell_type": "markdown",
   "metadata": {},
   "source": [
    "# Ещё примеры моделирования случайных чисел"
   ]
  },
  {
   "cell_type": "code",
   "execution_count": 1,
   "metadata": {},
   "outputs": [],
   "source": [
    "from load_packages import load_packages\n",
    "\n",
    "\n",
    "load_packages()"
   ]
  },
  {
   "cell_type": "markdown",
   "metadata": {},
   "source": [
    "# Перевод случайного числа из 10-ой системы счисления в 16-ую"
   ]
  },
  {
   "cell_type": "code",
   "execution_count": 6,
   "metadata": {},
   "outputs": [
    {
     "name": "stdout",
     "output_type": "stream",
     "text": [
      "Cлучайное число: 111\n",
      "16-ое представление: 6f\n"
     ]
    }
   ],
   "source": [
    "from packages.random.src.uniform import UniformRandom\n",
    "\n",
    "\n",
    "def show_random_hex(min, max):\n",
    "    decimal_number = int(round(UniformRandom().next((min, max)), 0))\n",
    "    \n",
    "    print(\"Cлучайное число: {0}\".format(decimal_number))\n",
    "    print(\"16-ое представление: {0:x}\".format(decimal_number))\n",
    "\n",
    "    \n",
    "show_random_hex(1, 255)"
   ]
  },
  {
   "cell_type": "code",
   "execution_count": null,
   "metadata": {},
   "outputs": [],
   "source": []
  },
  {
   "cell_type": "code",
   "execution_count": null,
   "metadata": {},
   "outputs": [],
   "source": []
  }
 ],
 "metadata": {
  "kernelspec": {
   "display_name": "Python 3",
   "language": "python",
   "name": "python3"
  },
  "language_info": {
   "codemirror_mode": {
    "name": "ipython",
    "version": 3
   },
   "file_extension": ".py",
   "mimetype": "text/x-python",
   "name": "python",
   "nbconvert_exporter": "python",
   "pygments_lexer": "ipython3",
   "version": "3.7.1"
  }
 },
 "nbformat": 4,
 "nbformat_minor": 2
}
